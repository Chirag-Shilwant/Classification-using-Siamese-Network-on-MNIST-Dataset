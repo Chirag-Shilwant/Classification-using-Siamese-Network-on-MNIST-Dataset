{
  "nbformat": 4,
  "nbformat_minor": 0,
  "metadata": {
    "colab": {
      "name": "Siamese Network on MNIST.ipynb",
      "provenance": [],
      "collapsed_sections": [
        "QOs9ALvXvdVa",
        "-ZsXdgc3vjTy",
        "PSP_nyLiMSVl",
        "UbHCPncfNEdA",
        "zFhR0MfbNOTr",
        "llCeVaXCVpcW",
        "NiuZWv1ZuPU0",
        "A3Ve0vaL14vA",
        "rTo1-5vIC1wV",
        "RVxIVZV2IHO1",
        "XqHK752HUhnY",
        "fIZTe9lCr_px"
      ],
      "authorship_tag": "ABX9TyMGdH7WxOyLEb+OD6HXFKu3",
      "include_colab_link": true
    },
    "kernelspec": {
      "name": "python3",
      "display_name": "Python 3"
    },
    "language_info": {
      "name": "python"
    }
  },
  "cells": [
    {
      "cell_type": "markdown",
      "metadata": {
        "id": "view-in-github",
        "colab_type": "text"
      },
      "source": [
        "<a href=\"https://colab.research.google.com/github/Chirag-Shilwant/Classification-using-Siamese-Network-on-MNIST-Dataset/blob/main/Siamese_Network_on_MNIST.ipynb\" target=\"_parent\"><img src=\"https://colab.research.google.com/assets/colab-badge.svg\" alt=\"Open In Colab\"/></a>"
      ]
    },
    {
      "cell_type": "code",
      "metadata": {
        "id": "VNskEAYDkgD8"
      },
      "source": [
        "import numpy as np\n",
        "from keras.datasets import mnist\n",
        "import matplotlib.pyplot as plt\n",
        "from tensorflow.keras import layers, models\n",
        "import keras as ks\n",
        "import tensorflow as tf\n",
        "import pickle\n",
        "from tensorflow.keras.layers import Activation\n",
        "from tensorflow.keras.layers import Flatten\n",
        "from tensorflow.keras.layers import Dense\n",
        "from tensorflow.keras.layers import Reshape\n",
        "from tensorflow.keras.layers import Input\n",
        "from tensorflow.keras.models import Model\n",
        "from tensorflow.keras.layers import Dot\n",
        "from tensorflow.keras.layers import Lambda\n",
        "from tensorflow.keras import backend as K\n",
        "import keras\n",
        "import random\n",
        "import tensorflow_addons as tfa"
      ],
      "execution_count": null,
      "outputs": []
    },
    {
      "cell_type": "code",
      "metadata": {
        "colab": {
          "base_uri": "https://localhost:8080/"
        },
        "id": "2BQOYeqoQ953",
        "outputId": "00607db0-1c4a-43a3-e5bc-4b42ff46faa9"
      },
      "source": [
        "!pip install -q -U tensorflow-addons"
      ],
      "execution_count": null,
      "outputs": [
        {
          "output_type": "stream",
          "text": [
            "\u001b[?25l\r\u001b[K     |▌                               | 10kB 19.3MB/s eta 0:00:01\r\u001b[K     |█                               | 20kB 14.6MB/s eta 0:00:01\r\u001b[K     |█▍                              | 30kB 10.9MB/s eta 0:00:01\r\u001b[K     |█▉                              | 40kB 8.6MB/s eta 0:00:01\r\u001b[K     |██▎                             | 51kB 4.4MB/s eta 0:00:01\r\u001b[K     |██▉                             | 61kB 4.9MB/s eta 0:00:01\r\u001b[K     |███▎                            | 71kB 5.1MB/s eta 0:00:01\r\u001b[K     |███▊                            | 81kB 5.5MB/s eta 0:00:01\r\u001b[K     |████▏                           | 92kB 5.4MB/s eta 0:00:01\r\u001b[K     |████▋                           | 102kB 5.9MB/s eta 0:00:01\r\u001b[K     |█████▏                          | 112kB 5.9MB/s eta 0:00:01\r\u001b[K     |█████▋                          | 122kB 5.9MB/s eta 0:00:01\r\u001b[K     |██████                          | 133kB 5.9MB/s eta 0:00:01\r\u001b[K     |██████▌                         | 143kB 5.9MB/s eta 0:00:01\r\u001b[K     |███████                         | 153kB 5.9MB/s eta 0:00:01\r\u001b[K     |███████▌                        | 163kB 5.9MB/s eta 0:00:01\r\u001b[K     |████████                        | 174kB 5.9MB/s eta 0:00:01\r\u001b[K     |████████▍                       | 184kB 5.9MB/s eta 0:00:01\r\u001b[K     |████████▉                       | 194kB 5.9MB/s eta 0:00:01\r\u001b[K     |█████████▎                      | 204kB 5.9MB/s eta 0:00:01\r\u001b[K     |█████████▉                      | 215kB 5.9MB/s eta 0:00:01\r\u001b[K     |██████████▎                     | 225kB 5.9MB/s eta 0:00:01\r\u001b[K     |██████████▊                     | 235kB 5.9MB/s eta 0:00:01\r\u001b[K     |███████████▏                    | 245kB 5.9MB/s eta 0:00:01\r\u001b[K     |███████████▋                    | 256kB 5.9MB/s eta 0:00:01\r\u001b[K     |████████████▏                   | 266kB 5.9MB/s eta 0:00:01\r\u001b[K     |████████████▋                   | 276kB 5.9MB/s eta 0:00:01\r\u001b[K     |█████████████                   | 286kB 5.9MB/s eta 0:00:01\r\u001b[K     |█████████████▌                  | 296kB 5.9MB/s eta 0:00:01\r\u001b[K     |██████████████                  | 307kB 5.9MB/s eta 0:00:01\r\u001b[K     |██████████████▍                 | 317kB 5.9MB/s eta 0:00:01\r\u001b[K     |███████████████                 | 327kB 5.9MB/s eta 0:00:01\r\u001b[K     |███████████████▍                | 337kB 5.9MB/s eta 0:00:01\r\u001b[K     |███████████████▉                | 348kB 5.9MB/s eta 0:00:01\r\u001b[K     |████████████████▎               | 358kB 5.9MB/s eta 0:00:01\r\u001b[K     |████████████████▊               | 368kB 5.9MB/s eta 0:00:01\r\u001b[K     |█████████████████▎              | 378kB 5.9MB/s eta 0:00:01\r\u001b[K     |█████████████████▊              | 389kB 5.9MB/s eta 0:00:01\r\u001b[K     |██████████████████▏             | 399kB 5.9MB/s eta 0:00:01\r\u001b[K     |██████████████████▋             | 409kB 5.9MB/s eta 0:00:01\r\u001b[K     |███████████████████             | 419kB 5.9MB/s eta 0:00:01\r\u001b[K     |███████████████████▋            | 430kB 5.9MB/s eta 0:00:01\r\u001b[K     |████████████████████            | 440kB 5.9MB/s eta 0:00:01\r\u001b[K     |████████████████████▌           | 450kB 5.9MB/s eta 0:00:01\r\u001b[K     |█████████████████████           | 460kB 5.9MB/s eta 0:00:01\r\u001b[K     |█████████████████████▍          | 471kB 5.9MB/s eta 0:00:01\r\u001b[K     |██████████████████████          | 481kB 5.9MB/s eta 0:00:01\r\u001b[K     |██████████████████████▍         | 491kB 5.9MB/s eta 0:00:01\r\u001b[K     |██████████████████████▉         | 501kB 5.9MB/s eta 0:00:01\r\u001b[K     |███████████████████████▎        | 512kB 5.9MB/s eta 0:00:01\r\u001b[K     |███████████████████████▊        | 522kB 5.9MB/s eta 0:00:01\r\u001b[K     |████████████████████████▎       | 532kB 5.9MB/s eta 0:00:01\r\u001b[K     |████████████████████████▊       | 542kB 5.9MB/s eta 0:00:01\r\u001b[K     |█████████████████████████▏      | 552kB 5.9MB/s eta 0:00:01\r\u001b[K     |█████████████████████████▋      | 563kB 5.9MB/s eta 0:00:01\r\u001b[K     |██████████████████████████      | 573kB 5.9MB/s eta 0:00:01\r\u001b[K     |██████████████████████████▋     | 583kB 5.9MB/s eta 0:00:01\r\u001b[K     |███████████████████████████     | 593kB 5.9MB/s eta 0:00:01\r\u001b[K     |███████████████████████████▌    | 604kB 5.9MB/s eta 0:00:01\r\u001b[K     |████████████████████████████    | 614kB 5.9MB/s eta 0:00:01\r\u001b[K     |████████████████████████████▍   | 624kB 5.9MB/s eta 0:00:01\r\u001b[K     |████████████████████████████▉   | 634kB 5.9MB/s eta 0:00:01\r\u001b[K     |█████████████████████████████▍  | 645kB 5.9MB/s eta 0:00:01\r\u001b[K     |█████████████████████████████▉  | 655kB 5.9MB/s eta 0:00:01\r\u001b[K     |██████████████████████████████▎ | 665kB 5.9MB/s eta 0:00:01\r\u001b[K     |██████████████████████████████▊ | 675kB 5.9MB/s eta 0:00:01\r\u001b[K     |███████████████████████████████▏| 686kB 5.9MB/s eta 0:00:01\r\u001b[K     |███████████████████████████████▊| 696kB 5.9MB/s eta 0:00:01\r\u001b[K     |████████████████████████████████| 706kB 5.9MB/s \n",
            "\u001b[?25h"
          ],
          "name": "stdout"
        }
      ]
    },
    {
      "cell_type": "markdown",
      "metadata": {
        "id": "QOs9ALvXvdVa"
      },
      "source": [
        "# **Loading the Dataset**"
      ]
    },
    {
      "cell_type": "code",
      "metadata": {
        "id": "LpcxQVaMkgAT"
      },
      "source": [
        "(X_train, Y_train), (X_test, Y_test) = mnist.load_data()"
      ],
      "execution_count": null,
      "outputs": []
    },
    {
      "cell_type": "code",
      "metadata": {
        "id": "iCMEPeCbkf58"
      },
      "source": [
        "# Normalizing\n",
        "X_train = X_train.astype('float32')\n",
        "X_train /= 255\n",
        "X_train = X_train.reshape((len(X_train), np.prod(X_train.shape[1:])))\n",
        "X_test = X_test.astype('float32')\n",
        "X_test /= 255\n",
        "X_test = X_test.reshape((len(X_test), np.prod(X_test.shape[1:])))"
      ],
      "execution_count": null,
      "outputs": []
    },
    {
      "cell_type": "code",
      "metadata": {
        "id": "NKTc1axnkf9P",
        "colab": {
          "base_uri": "https://localhost:8080/"
        },
        "outputId": "a8329ffe-edc8-4eff-f7e3-ff9ecce48bbd"
      },
      "source": [
        "print(\"Shape of training data:\")\n",
        "print(X_train.shape)\n",
        "print(Y_train.shape)\n",
        "\n",
        "print(\"Shape of test data:\")\n",
        "print(X_test.shape)\n",
        "print(Y_test.shape)"
      ],
      "execution_count": null,
      "outputs": [
        {
          "output_type": "stream",
          "text": [
            "Shape of training data:\n",
            "(60000, 784)\n",
            "(60000,)\n",
            "Shape of test data:\n",
            "(10000, 784)\n",
            "(10000,)\n"
          ],
          "name": "stdout"
        }
      ]
    },
    {
      "cell_type": "markdown",
      "metadata": {
        "id": "-ZsXdgc3vjTy"
      },
      "source": [
        "# **Making Pairs for One Shot Learning**"
      ]
    },
    {
      "cell_type": "code",
      "metadata": {
        "id": "TAbKQUlOM8nr"
      },
      "source": [
        "class Pairs:\n",
        "  def makePairs(self, x, y):\n",
        "    num_classes = 10\n",
        "    digit_indices = [np.where(y == i)[0] for i in range(num_classes)]\n",
        "\n",
        "    pairs = list()\n",
        "    labels = list()\n",
        "\n",
        "    for idx1 in range(len(x)):\n",
        "        x1 = x[idx1]\n",
        "        label1 = y[idx1]\n",
        "        idx2 = random.choice(digit_indices[label1])\n",
        "        x2 = x[idx2]\n",
        "        \n",
        "        labels += list([1])\n",
        "        pairs += [[x1, x2]]\n",
        "    \n",
        "        label2 = random.randint(0, num_classes-1)\n",
        "        while label2 == label1:\n",
        "            label2 = random.randint(0, num_classes-1)\n",
        "\n",
        "        idx2 = random.choice(digit_indices[label2])\n",
        "        x2 = x[idx2]\n",
        "        \n",
        "        labels += list([0])\n",
        "        pairs += [[x1, x2]]\n",
        "        \n",
        "    return np.array(pairs), np.array(labels)"
      ],
      "execution_count": null,
      "outputs": []
    },
    {
      "cell_type": "code",
      "metadata": {
        "id": "iE10bm2e06N-"
      },
      "source": [
        "p = Pairs()"
      ],
      "execution_count": null,
      "outputs": []
    },
    {
      "cell_type": "code",
      "metadata": {
        "id": "JVfxWqalQCMp"
      },
      "source": [
        "pairs_train, labels_train = p.makePairs(X_train, Y_train)\n",
        "pairs_test, labels_test = p.makePairs(X_test, Y_test)\n",
        "labels_train = labels_train.astype('float32')\n",
        "labels_test = labels_test.astype('float32')"
      ],
      "execution_count": null,
      "outputs": []
    },
    {
      "cell_type": "markdown",
      "metadata": {
        "id": "PSP_nyLiMSVl"
      },
      "source": [
        "# **Siamese Network**"
      ]
    },
    {
      "cell_type": "code",
      "metadata": {
        "id": "tvu75RuYRTKj"
      },
      "source": [
        "def euclideanDistance(v):\n",
        "    x, y = v\n",
        "    sum_square = K.sum(K.square(x - y), axis=1, keepdims=True)\n",
        "    return K.sqrt(K.maximum(sum_square, K.epsilon()))\n",
        "\n",
        "def eucl_dist_output_shape(shapes):\n",
        "    shape1, shape2 = shapes\n",
        "    return (shape1[0], 1)\n",
        "\n",
        "def contrastive_loss(y_original, y_pred):\n",
        "    sqaure_pred = K.square(y_pred)\n",
        "    margin = 1\n",
        "    margin_square = K.square(K.maximum(0, margin - y_pred))\n",
        "    return K.mean(y_original * sqaure_pred + (1 - y_original) * margin_square)\n",
        "\n",
        "def compute_accuracy(y_original, y_pred):\n",
        "    pred = y_pred.ravel() < 0.5\n",
        "    return np.mean(pred == y_original)\n",
        "\n",
        "def accuracy(y_original, y_pred):\n",
        "    return K.mean(K.equal(y_original, K.cast(y_pred < 0.5, y_original.dtype)))"
      ],
      "execution_count": null,
      "outputs": []
    },
    {
      "cell_type": "code",
      "metadata": {
        "id": "njW6iN9B2plv"
      },
      "source": [
        "input = Input(shape=(784,))\n",
        "x = Flatten()(input)\n",
        "x = Dense(64, activation='relu')(x)\n",
        "x = Dense(128, activation='relu')(x)\n",
        "x = Dense(256, activation='relu')(x)\n",
        "x = Lambda(lambda  x: K.l2_normalize(x,axis=1))(x)\n",
        "x = Lambda(lambda  x: K.l2_normalize(x,axis=1))(x)\n",
        "dense = Model(input, x)\n",
        "\n",
        "\n",
        "input1 = Input(shape=(784,))\n",
        "input2 = Input(shape=(784,))\n",
        "dense1 = dense(input1)\n",
        "dense2 = dense(input2)\n",
        "\n",
        "distance = Lambda(euclideanDistance, output_shape=eucl_dist_output_shape)([dense1, dense2])\n",
        "model = Model([input1, input2], distance)"
      ],
      "execution_count": null,
      "outputs": []
    },
    {
      "cell_type": "markdown",
      "metadata": {
        "id": "UbHCPncfNEdA"
      },
      "source": [
        "# **Contrastive loss**"
      ]
    },
    {
      "cell_type": "code",
      "metadata": {
        "colab": {
          "base_uri": "https://localhost:8080/"
        },
        "id": "95k-QnamSYf7",
        "outputId": "156ed6a6-aeb5-43b1-827a-1ff3cb366333"
      },
      "source": [
        "model.compile(loss = contrastive_loss, optimizer=\"adam\", metrics=[accuracy])\n",
        "model.summary()"
      ],
      "execution_count": null,
      "outputs": [
        {
          "output_type": "stream",
          "text": [
            "Model: \"model_60\"\n",
            "__________________________________________________________________________________________________\n",
            "Layer (type)                    Output Shape         Param #     Connected to                     \n",
            "==================================================================================================\n",
            "input_92 (InputLayer)           [(None, 784)]        0                                            \n",
            "__________________________________________________________________________________________________\n",
            "input_93 (InputLayer)           [(None, 784)]        0                                            \n",
            "__________________________________________________________________________________________________\n",
            "model_59 (Functional)           (None, 256)          91584       input_92[0][0]                   \n",
            "                                                                 input_93[0][0]                   \n",
            "__________________________________________________________________________________________________\n",
            "lambda_86 (Lambda)              (None, 1)            0           model_59[0][0]                   \n",
            "                                                                 model_59[1][0]                   \n",
            "==================================================================================================\n",
            "Total params: 91,584\n",
            "Trainable params: 91,584\n",
            "Non-trainable params: 0\n",
            "__________________________________________________________________________________________________\n"
          ],
          "name": "stdout"
        }
      ]
    },
    {
      "cell_type": "code",
      "metadata": {
        "colab": {
          "base_uri": "https://localhost:8080/"
        },
        "id": "66vLX5PkTOjd",
        "outputId": "f5b80563-623a-45aa-b34e-f691d8546eba"
      },
      "source": [
        "history = model.fit([pairs_train[:,0], pairs_train[:,1]], labels_train[:], batch_size=128, epochs=10, validation_data =([pairs_test[:, 0], pairs_test[:, 1]], labels_test))"
      ],
      "execution_count": null,
      "outputs": [
        {
          "output_type": "stream",
          "text": [
            "Epoch 1/10\n",
            "938/938 [==============================] - 8s 8ms/step - loss: 0.0933 - accuracy: 0.8839 - val_loss: 0.0379 - val_accuracy: 0.9595\n",
            "Epoch 2/10\n",
            "938/938 [==============================] - 7s 8ms/step - loss: 0.0277 - accuracy: 0.9707 - val_loss: 0.0292 - val_accuracy: 0.9643\n",
            "Epoch 3/10\n",
            "938/938 [==============================] - 7s 8ms/step - loss: 0.0179 - accuracy: 0.9808 - val_loss: 0.0250 - val_accuracy: 0.9693\n",
            "Epoch 4/10\n",
            "938/938 [==============================] - 7s 8ms/step - loss: 0.0132 - accuracy: 0.9855 - val_loss: 0.0242 - val_accuracy: 0.9708\n",
            "Epoch 5/10\n",
            "938/938 [==============================] - 7s 8ms/step - loss: 0.0105 - accuracy: 0.9891 - val_loss: 0.0247 - val_accuracy: 0.9692\n",
            "Epoch 6/10\n",
            "938/938 [==============================] - 7s 8ms/step - loss: 0.0085 - accuracy: 0.9912 - val_loss: 0.0236 - val_accuracy: 0.9710\n",
            "Epoch 7/10\n",
            "938/938 [==============================] - 7s 8ms/step - loss: 0.0072 - accuracy: 0.9928 - val_loss: 0.0247 - val_accuracy: 0.9696\n",
            "Epoch 8/10\n",
            "938/938 [==============================] - 7s 8ms/step - loss: 0.0070 - accuracy: 0.9928 - val_loss: 0.0241 - val_accuracy: 0.9715\n",
            "Epoch 9/10\n",
            "938/938 [==============================] - 7s 8ms/step - loss: 0.0060 - accuracy: 0.9939 - val_loss: 0.0256 - val_accuracy: 0.9692\n",
            "Epoch 10/10\n",
            "938/938 [==============================] - 7s 8ms/step - loss: 0.0055 - accuracy: 0.9946 - val_loss: 0.0227 - val_accuracy: 0.9729\n"
          ],
          "name": "stdout"
        }
      ]
    },
    {
      "cell_type": "code",
      "metadata": {
        "id": "7XEJZNaDTORH"
      },
      "source": [
        "y_pred_te = model.predict([pairs_test[:, 0], pairs_test[:, 1]])\n",
        "te_acc = compute_accuracy(labels_test, y_pred_te)"
      ],
      "execution_count": null,
      "outputs": []
    },
    {
      "cell_type": "code",
      "metadata": {
        "colab": {
          "base_uri": "https://localhost:8080/"
        },
        "id": "sHkwfafchjCO",
        "outputId": "1ea409d0-2756-4a1b-9b78-6eaacf529970"
      },
      "source": [
        "print(\"Accuracy on test set:\", te_acc*100)"
      ],
      "execution_count": null,
      "outputs": [
        {
          "output_type": "stream",
          "text": [
            "Accuracy on test set: 97.28999999999999\n"
          ],
          "name": "stdout"
        }
      ]
    },
    {
      "cell_type": "code",
      "metadata": {
        "colab": {
          "base_uri": "https://localhost:8080/",
          "height": 295
        },
        "id": "GFNgacH8G9FB",
        "outputId": "7f409a4c-35ca-4baa-d3b4-32d266a7af6f"
      },
      "source": [
        "history_dict = history.history\n",
        "loss_values = history_dict['loss']\n",
        "val_loss_values = history_dict['val_loss']\n",
        "epochs = range(1, (len(history.history['val_accuracy']) + 1))\n",
        "plt.plot(epochs, loss_values, 'y', label='Training loss')\n",
        "plt.plot(epochs, val_loss_values, 'g', label='Test loss')\n",
        "plt.title('Training and Test loss')\n",
        "plt.xlabel('Epochs')\n",
        "plt.ylabel('Loss')\n",
        "plt.legend()\n",
        "plt.show()"
      ],
      "execution_count": null,
      "outputs": [
        {
          "output_type": "display_data",
          "data": {
            "image/png": "[encoded data removed]",
            "text/plain": [
              "<Figure size 432x288 with 1 Axes>"
            ]
          },
          "metadata": {
            "tags": [],
            "needs_background": "light"
          }
        }
      ]
    },
    {
      "cell_type": "markdown",
      "metadata": {
        "id": "zFhR0MfbNOTr"
      },
      "source": [
        "# **Triplet Loss**"
      ]
    },
    {
      "cell_type": "code",
      "metadata": {
        "colab": {
          "base_uri": "https://localhost:8080/"
        },
        "id": "yiECQd7ENN7W",
        "outputId": "2a880fc1-2a69-44e1-accf-188cf2e5d72f"
      },
      "source": [
        "model.compile(loss = tfa.losses.TripletSemiHardLoss(), optimizer=\"adam\", metrics=[accuracy])\n",
        "model.summary()"
      ],
      "execution_count": null,
      "outputs": [
        {
          "output_type": "stream",
          "text": [
            "Model: \"model_62\"\n",
            "__________________________________________________________________________________________________\n",
            "Layer (type)                    Output Shape         Param #     Connected to                     \n",
            "==================================================================================================\n",
            "input_95 (InputLayer)           [(None, 784)]        0                                            \n",
            "__________________________________________________________________________________________________\n",
            "input_96 (InputLayer)           [(None, 784)]        0                                            \n",
            "__________________________________________________________________________________________________\n",
            "model_61 (Functional)           (None, 256)          91584       input_95[0][0]                   \n",
            "                                                                 input_96[0][0]                   \n",
            "__________________________________________________________________________________________________\n",
            "lambda_89 (Lambda)              (None, 1)            0           model_61[0][0]                   \n",
            "                                                                 model_61[1][0]                   \n",
            "==================================================================================================\n",
            "Total params: 91,584\n",
            "Trainable params: 91,584\n",
            "Non-trainable params: 0\n",
            "__________________________________________________________________________________________________\n"
          ],
          "name": "stdout"
        }
      ]
    },
    {
      "cell_type": "code",
      "metadata": {
        "colab": {
          "base_uri": "https://localhost:8080/"
        },
        "id": "sLgWoExqNNwG",
        "outputId": "2a7bda94-ab6f-466e-ba53-594fe37385a5"
      },
      "source": [
        "history = model.fit([pairs_train[:,0], pairs_train[:,1]], labels_train[:], batch_size=128, epochs=10, validation_data =([pairs_test[:, 0], pairs_test[:, 1]], labels_test))"
      ],
      "execution_count": null,
      "outputs": [
        {
          "output_type": "stream",
          "text": [
            "Epoch 1/10\n",
            "938/938 [==============================] - 48s 50ms/step - loss: 0.9227 - accuracy: 0.7951 - val_loss: 0.7593 - val_accuracy: 0.9112\n",
            "Epoch 2/10\n",
            "938/938 [==============================] - 46s 49ms/step - loss: 0.7313 - accuracy: 0.9213 - val_loss: 0.6899 - val_accuracy: 0.9357\n",
            "Epoch 3/10\n",
            "938/938 [==============================] - 46s 49ms/step - loss: 0.6471 - accuracy: 0.9440 - val_loss: 0.6710 - val_accuracy: 0.9409\n",
            "Epoch 4/10\n",
            "938/938 [==============================] - 46s 49ms/step - loss: 0.5861 - accuracy: 0.9525 - val_loss: 0.6153 - val_accuracy: 0.9477\n",
            "Epoch 5/10\n",
            "938/938 [==============================] - 46s 49ms/step - loss: 0.5277 - accuracy: 0.9607 - val_loss: 0.6208 - val_accuracy: 0.9454\n",
            "Epoch 6/10\n",
            "938/938 [==============================] - 46s 49ms/step - loss: 0.5000 - accuracy: 0.9649 - val_loss: 0.6372 - val_accuracy: 0.9476\n",
            "Epoch 7/10\n",
            "938/938 [==============================] - 46s 49ms/step - loss: 0.4554 - accuracy: 0.9689 - val_loss: 0.6254 - val_accuracy: 0.9499\n",
            "Epoch 8/10\n",
            "938/938 [==============================] - 46s 49ms/step - loss: 0.4296 - accuracy: 0.9718 - val_loss: 0.5963 - val_accuracy: 0.9554\n",
            "Epoch 9/10\n",
            "938/938 [==============================] - 46s 49ms/step - loss: 0.3854 - accuracy: 0.9758 - val_loss: 0.5352 - val_accuracy: 0.9573\n",
            "Epoch 10/10\n",
            "938/938 [==============================] - 46s 49ms/step - loss: 0.3593 - accuracy: 0.9781 - val_loss: 0.5460 - val_accuracy: 0.9603\n"
          ],
          "name": "stdout"
        }
      ]
    },
    {
      "cell_type": "code",
      "metadata": {
        "id": "KKgn4bjiONoa"
      },
      "source": [
        "y_pred_te = model.predict([pairs_test[:, 0], pairs_test[:, 1]])\n",
        "te_acc = compute_accuracy(labels_test, y_pred_te)"
      ],
      "execution_count": null,
      "outputs": []
    },
    {
      "cell_type": "code",
      "metadata": {
        "colab": {
          "base_uri": "https://localhost:8080/"
        },
        "id": "1iO9omw9ONgs",
        "outputId": "88bc9af7-4a82-4eb6-fa0f-2789568f4741"
      },
      "source": [
        "print(\"Accuracy on test set:\", te_acc*100)"
      ],
      "execution_count": null,
      "outputs": [
        {
          "output_type": "stream",
          "text": [
            "Accuracy on test set: 96.03\n"
          ],
          "name": "stdout"
        }
      ]
    },
    {
      "cell_type": "code",
      "metadata": {
        "colab": {
          "base_uri": "https://localhost:8080/",
          "height": 295
        },
        "id": "WwVNISn5PYpS",
        "outputId": "c177aea2-bf38-4989-83e4-e6a92f541f84"
      },
      "source": [
        "history_dict = history.history\n",
        "loss_values = history_dict['loss']\n",
        "val_loss_values = history_dict['val_loss']\n",
        "epochs = range(1, (len(history.history['val_accuracy']) + 1))\n",
        "plt.plot(epochs, loss_values, 'y', label='Training loss')\n",
        "plt.plot(epochs, val_loss_values, 'g', label='Test loss')\n",
        "plt.title('Training and Test loss')\n",
        "plt.xlabel('Epochs')\n",
        "plt.ylabel('Loss')\n",
        "plt.legend()\n",
        "plt.show()"
      ],
      "execution_count": null,
      "outputs": [
        {
          "output_type": "display_data",
          "data": {
            "image/png": "[encoded data removed]",
            "text/plain": [
              "<Figure size 432x288 with 1 Axes>"
            ]
          },
          "metadata": {
            "tags": [],
            "needs_background": "light"
          }
        }
      ]
    },
    {
      "cell_type": "markdown",
      "metadata": {
        "id": "llCeVaXCVpcW"
      },
      "source": [
        "# **Regularized Cross Entropy**"
      ]
    },
    {
      "cell_type": "code",
      "metadata": {
        "colab": {
          "base_uri": "https://localhost:8080/"
        },
        "id": "WEHQUgcAVn6w",
        "outputId": "f02c5695-d8ad-4714-d95a-40ff650be407"
      },
      "source": [
        "model.compile(loss = \"categorical_crossentropy\", optimizer=\"adam\", metrics=[accuracy])\n",
        "model.summary()"
      ],
      "execution_count": null,
      "outputs": [
        {
          "output_type": "stream",
          "text": [
            "Model: \"model_64\"\n",
            "__________________________________________________________________________________________________\n",
            "Layer (type)                    Output Shape         Param #     Connected to                     \n",
            "==================================================================================================\n",
            "input_98 (InputLayer)           [(None, 784)]        0                                            \n",
            "__________________________________________________________________________________________________\n",
            "input_99 (InputLayer)           [(None, 784)]        0                                            \n",
            "__________________________________________________________________________________________________\n",
            "model_63 (Functional)           (None, 256)          91584       input_98[0][0]                   \n",
            "                                                                 input_99[0][0]                   \n",
            "__________________________________________________________________________________________________\n",
            "lambda_92 (Lambda)              (None, 1)            0           model_63[0][0]                   \n",
            "                                                                 model_63[1][0]                   \n",
            "==================================================================================================\n",
            "Total params: 91,584\n",
            "Trainable params: 91,584\n",
            "Non-trainable params: 0\n",
            "__________________________________________________________________________________________________\n"
          ],
          "name": "stdout"
        }
      ]
    },
    {
      "cell_type": "code",
      "metadata": {
        "colab": {
          "base_uri": "https://localhost:8080/"
        },
        "id": "rxIpVv9ymMee",
        "outputId": "e8a56c03-14bc-437f-f077-51e8d8831b79"
      },
      "source": [
        "history = model.fit([pairs_train[:,0], pairs_train[:,1]], labels_train[:], batch_size=128, epochs=10, validation_data =([pairs_test[:, 0], pairs_test[:, 1]], labels_test))"
      ],
      "execution_count": null,
      "outputs": [
        {
          "output_type": "stream",
          "text": [
            "Epoch 1/10\n",
            "938/938 [==============================] - 8s 8ms/step - loss: 5.9396e-08 - accuracy: 0.5536 - val_loss: 5.9605e-08 - val_accuracy: 0.5602\n",
            "Epoch 2/10\n",
            "938/938 [==============================] - 7s 8ms/step - loss: 5.9753e-08 - accuracy: 0.5495 - val_loss: 5.9605e-08 - val_accuracy: 0.5602\n",
            "Epoch 3/10\n",
            "938/938 [==============================] - 7s 7ms/step - loss: 5.9568e-08 - accuracy: 0.5524 - val_loss: 5.9605e-08 - val_accuracy: 0.5602\n",
            "Epoch 4/10\n",
            "938/938 [==============================] - 7s 8ms/step - loss: 6.0025e-08 - accuracy: 0.5482 - val_loss: 5.9605e-08 - val_accuracy: 0.5602\n",
            "Epoch 5/10\n",
            "938/938 [==============================] - 7s 7ms/step - loss: 5.9663e-08 - accuracy: 0.5512 - val_loss: 5.9605e-08 - val_accuracy: 0.5602\n",
            "Epoch 6/10\n",
            "938/938 [==============================] - 7s 8ms/step - loss: 5.9573e-08 - accuracy: 0.5505 - val_loss: 5.9605e-08 - val_accuracy: 0.5602\n",
            "Epoch 7/10\n",
            "938/938 [==============================] - 7s 7ms/step - loss: 5.9407e-08 - accuracy: 0.5534 - val_loss: 5.9605e-08 - val_accuracy: 0.5602\n",
            "Epoch 8/10\n",
            "938/938 [==============================] - 7s 7ms/step - loss: 5.9541e-08 - accuracy: 0.5516 - val_loss: 5.9605e-08 - val_accuracy: 0.5602\n",
            "Epoch 9/10\n",
            "938/938 [==============================] - 7s 7ms/step - loss: 6.0050e-08 - accuracy: 0.5487 - val_loss: 5.9605e-08 - val_accuracy: 0.5602\n",
            "Epoch 10/10\n",
            "938/938 [==============================] - 7s 7ms/step - loss: 5.9677e-08 - accuracy: 0.5491 - val_loss: 5.9605e-08 - val_accuracy: 0.5602\n"
          ],
          "name": "stdout"
        }
      ]
    },
    {
      "cell_type": "code",
      "metadata": {
        "id": "xOvcZDI4mMKw"
      },
      "source": [
        "y_pred_te = model.predict([pairs_test[:, 0], pairs_test[:, 1]])\n",
        "te_acc = compute_accuracy(labels_test, y_pred_te)"
      ],
      "execution_count": null,
      "outputs": []
    },
    {
      "cell_type": "code",
      "metadata": {
        "colab": {
          "base_uri": "https://localhost:8080/"
        },
        "id": "1VCvFVEUmMBB",
        "outputId": "c6789e71-4782-4bac-af85-7f5cc6b5c876"
      },
      "source": [
        "print(\"Accuracy on test set:\", te_acc*100)"
      ],
      "execution_count": null,
      "outputs": [
        {
          "output_type": "stream",
          "text": [
            "Accuracy on test set: 55.97\n"
          ],
          "name": "stdout"
        }
      ]
    },
    {
      "cell_type": "code",
      "metadata": {
        "colab": {
          "base_uri": "https://localhost:8080/",
          "height": 295
        },
        "id": "CY2AcHmimptw",
        "outputId": "89a382db-4aca-41d9-8bb6-f90ef77963f6"
      },
      "source": [
        "history_dict = history.history\n",
        "loss_values = history_dict['loss']\n",
        "val_loss_values = history_dict['val_loss']\n",
        "epochs = range(1, (len(history.history['val_accuracy']) + 1))\n",
        "plt.plot(epochs, loss_values, 'y', label='Training loss')\n",
        "plt.plot(epochs, val_loss_values, 'g', label='Test loss')\n",
        "plt.title('Training and Test loss')\n",
        "plt.xlabel('Epochs')\n",
        "plt.ylabel('Loss')\n",
        "plt.legend()\n",
        "plt.show()"
      ],
      "execution_count": null,
      "outputs": [
        {
          "output_type": "display_data",
          "data": {
            "image/png": "[encoded data removed]",
            "text/plain": [
              "<Figure size 432x288 with 1 Axes>"
            ]
          },
          "metadata": {
            "tags": [],
            "needs_background": "light"
          }
        }
      ]
    },
    {
      "cell_type": "markdown",
      "metadata": {
        "id": "NiuZWv1ZuPU0"
      },
      "source": [
        "# **Comparison of Regularized Cross Entropy, Triplet Loss and Contrastive loss functions**"
      ]
    },
    {
      "cell_type": "markdown",
      "metadata": {
        "id": "emVP7Hiovobc"
      },
      "source": [
        "*   Test Accuracy using **Contrastive loss : 97.289%**\n",
        "*   Test Accuracy using **Triplet Loss : 96.030%**\n",
        "*   Test Accuracy using **Regularized Cross Entropy : 55.97%**\n",
        "\n",
        "Hence, **Contrastive loss is best** among all three loss functions."
      ]
    },
    {
      "cell_type": "markdown",
      "metadata": {
        "id": "A3Ve0vaL14vA"
      },
      "source": [
        "# **Siamese Network with various Optimisers**"
      ]
    },
    {
      "cell_type": "markdown",
      "metadata": {
        "id": "SIp7rCqX2I0w"
      },
      "source": [
        "**RMSprop**"
      ]
    },
    {
      "cell_type": "code",
      "metadata": {
        "colab": {
          "base_uri": "https://localhost:8080/"
        },
        "id": "Wi1GGT2X2Gn5",
        "outputId": "4e51f358-ab70-4c35-9e7a-87d3171af4a2"
      },
      "source": [
        "model.compile(loss = contrastive_loss, optimizer=\"RMSprop\", metrics=[accuracy])\n",
        "model.summary()"
      ],
      "execution_count": null,
      "outputs": [
        {
          "output_type": "stream",
          "text": [
            "Model: \"model_80\"\n",
            "__________________________________________________________________________________________________\n",
            "Layer (type)                    Output Shape         Param #     Connected to                     \n",
            "==================================================================================================\n",
            "input_122 (InputLayer)          [(None, 784)]        0                                            \n",
            "__________________________________________________________________________________________________\n",
            "input_123 (InputLayer)          [(None, 784)]        0                                            \n",
            "__________________________________________________________________________________________________\n",
            "model_79 (Functional)           (None, 256)          91584       input_122[0][0]                  \n",
            "                                                                 input_123[0][0]                  \n",
            "__________________________________________________________________________________________________\n",
            "lambda_116 (Lambda)             (None, 1)            0           model_79[0][0]                   \n",
            "                                                                 model_79[1][0]                   \n",
            "==================================================================================================\n",
            "Total params: 91,584\n",
            "Trainable params: 91,584\n",
            "Non-trainable params: 0\n",
            "__________________________________________________________________________________________________\n"
          ],
          "name": "stdout"
        }
      ]
    },
    {
      "cell_type": "code",
      "metadata": {
        "colab": {
          "base_uri": "https://localhost:8080/"
        },
        "id": "0eYWrU_82Gkg",
        "outputId": "5ecd400b-0ecb-4e78-b626-7c8b4600d271"
      },
      "source": [
        "history = model.fit([pairs_train[:,0], pairs_train[:,1]], labels_train[:], batch_size=128, epochs=10, validation_data =([pairs_test[:, 0], pairs_test[:, 1]], labels_test))"
      ],
      "execution_count": null,
      "outputs": [
        {
          "output_type": "stream",
          "text": [
            "Epoch 1/10\n",
            "938/938 [==============================] - 8s 8ms/step - loss: 0.0888 - accuracy: 0.8892 - val_loss: 0.0401 - val_accuracy: 0.9552\n",
            "Epoch 2/10\n",
            "938/938 [==============================] - 7s 8ms/step - loss: 0.0280 - accuracy: 0.9702 - val_loss: 0.0275 - val_accuracy: 0.9674\n",
            "Epoch 3/10\n",
            "938/938 [==============================] - 7s 8ms/step - loss: 0.0181 - accuracy: 0.9801 - val_loss: 0.0242 - val_accuracy: 0.9697\n",
            "Epoch 4/10\n",
            "938/938 [==============================] - 7s 8ms/step - loss: 0.0130 - accuracy: 0.9857 - val_loss: 0.0227 - val_accuracy: 0.9725\n",
            "Epoch 5/10\n",
            "938/938 [==============================] - 7s 8ms/step - loss: 0.0102 - accuracy: 0.9888 - val_loss: 0.0243 - val_accuracy: 0.9696\n",
            "Epoch 6/10\n",
            "938/938 [==============================] - 7s 8ms/step - loss: 0.0090 - accuracy: 0.9904 - val_loss: 0.0228 - val_accuracy: 0.9723\n",
            "Epoch 7/10\n",
            "938/938 [==============================] - 7s 8ms/step - loss: 0.0074 - accuracy: 0.9924 - val_loss: 0.0230 - val_accuracy: 0.9717\n",
            "Epoch 8/10\n",
            "938/938 [==============================] - 7s 8ms/step - loss: 0.0069 - accuracy: 0.9926 - val_loss: 0.0230 - val_accuracy: 0.9714\n",
            "Epoch 9/10\n",
            "938/938 [==============================] - 7s 8ms/step - loss: 0.0063 - accuracy: 0.9933 - val_loss: 0.0217 - val_accuracy: 0.9733\n",
            "Epoch 10/10\n",
            "938/938 [==============================] - 7s 8ms/step - loss: 0.0055 - accuracy: 0.9943 - val_loss: 0.0232 - val_accuracy: 0.9717\n"
          ],
          "name": "stdout"
        }
      ]
    },
    {
      "cell_type": "code",
      "metadata": {
        "id": "K_j4LVDW13EH"
      },
      "source": [
        "y_pred_te = model.predict([pairs_test[:, 0], pairs_test[:, 1]])\n",
        "te_acc = compute_accuracy(labels_test, y_pred_te)"
      ],
      "execution_count": null,
      "outputs": []
    },
    {
      "cell_type": "code",
      "metadata": {
        "colab": {
          "base_uri": "https://localhost:8080/"
        },
        "id": "mtW7m7YO2SRB",
        "outputId": "ababe412-9459-4e9c-df44-67b54b0d582d"
      },
      "source": [
        "print(\"Accuracy on test set:\", te_acc*100)"
      ],
      "execution_count": null,
      "outputs": [
        {
          "output_type": "stream",
          "text": [
            "Accuracy on test set: 96.18345000000001\n"
          ],
          "name": "stdout"
        }
      ]
    },
    {
      "cell_type": "code",
      "metadata": {
        "colab": {
          "base_uri": "https://localhost:8080/",
          "height": 295
        },
        "id": "ZWAJyP762R1E",
        "outputId": "2b04eafe-374a-4482-8bf3-aedb966ebf28"
      },
      "source": [
        "history_dict = history.history\n",
        "loss_values = history_dict['loss']\n",
        "val_loss_values = history_dict['val_loss']\n",
        "epochs = range(1, (len(history.history['val_accuracy']) + 1))\n",
        "plt.plot(epochs, loss_values, 'y', label='Training loss')\n",
        "plt.plot(epochs, val_loss_values, 'g', label='Test loss')\n",
        "plt.title('Training and Test loss')\n",
        "plt.xlabel('Epochs')\n",
        "plt.ylabel('Loss')\n",
        "plt.legend()\n",
        "plt.show()"
      ],
      "execution_count": null,
      "outputs": [
        {
          "output_type": "display_data",
          "data": {
            "image/png": "[encoded data removed]",
            "text/plain": [
              "<Figure size 432x288 with 1 Axes>"
            ]
          },
          "metadata": {
            "tags": [],
            "needs_background": "light"
          }
        }
      ]
    },
    {
      "cell_type": "markdown",
      "metadata": {
        "id": "8mDekMlz2TZQ"
      },
      "source": [
        "**Mini Batch Gradient Descent**"
      ]
    },
    {
      "cell_type": "code",
      "metadata": {
        "colab": {
          "base_uri": "https://localhost:8080/"
        },
        "id": "hRiZz64w2V39",
        "outputId": "e0bac651-4648-4f72-8bc7-4c1faf1af51d"
      },
      "source": [
        "model.compile(loss = contrastive_loss, optimizer=\"SGD\", metrics=[accuracy])\n",
        "model.summary()"
      ],
      "execution_count": null,
      "outputs": [
        {
          "output_type": "stream",
          "text": [
            "Model: \"model_78\"\n",
            "__________________________________________________________________________________________________\n",
            "Layer (type)                    Output Shape         Param #     Connected to                     \n",
            "==================================================================================================\n",
            "input_119 (InputLayer)          [(None, 784)]        0                                            \n",
            "__________________________________________________________________________________________________\n",
            "input_120 (InputLayer)          [(None, 784)]        0                                            \n",
            "__________________________________________________________________________________________________\n",
            "model_77 (Functional)           (None, 256)          91584       input_119[0][0]                  \n",
            "                                                                 input_120[0][0]                  \n",
            "__________________________________________________________________________________________________\n",
            "lambda_113 (Lambda)             (None, 1)            0           model_77[0][0]                   \n",
            "                                                                 model_77[1][0]                   \n",
            "==================================================================================================\n",
            "Total params: 91,584\n",
            "Trainable params: 91,584\n",
            "Non-trainable params: 0\n",
            "__________________________________________________________________________________________________\n"
          ],
          "name": "stdout"
        }
      ]
    },
    {
      "cell_type": "code",
      "metadata": {
        "colab": {
          "base_uri": "https://localhost:8080/"
        },
        "id": "W9kgVK6K2Vrl",
        "outputId": "d13e6d78-ce97-4bb5-d89d-652b7b44de3e"
      },
      "source": [
        "history = model.fit([pairs_train[:,0], pairs_train[:,1]], labels_train[:], batch_size=128, epochs=10, validation_data =([pairs_test[:, 0], pairs_test[:, 1]], labels_test))"
      ],
      "execution_count": null,
      "outputs": [
        {
          "output_type": "stream",
          "text": [
            "Epoch 1/10\n",
            "938/938 [==============================] - 8s 7ms/step - loss: 0.2147 - accuracy: 0.6786 - val_loss: 0.1529 - val_accuracy: 0.8081\n",
            "Epoch 2/10\n",
            "938/938 [==============================] - 7s 7ms/step - loss: 0.1472 - accuracy: 0.8129 - val_loss: 0.1327 - val_accuracy: 0.8345\n",
            "Epoch 3/10\n",
            "938/938 [==============================] - 7s 7ms/step - loss: 0.1298 - accuracy: 0.8383 - val_loss: 0.1222 - val_accuracy: 0.8502\n",
            "Epoch 4/10\n",
            "938/938 [==============================] - 7s 7ms/step - loss: 0.1207 - accuracy: 0.8514 - val_loss: 0.1151 - val_accuracy: 0.8589\n",
            "Epoch 5/10\n",
            "938/938 [==============================] - 7s 7ms/step - loss: 0.1140 - accuracy: 0.8613 - val_loss: 0.1099 - val_accuracy: 0.8660\n",
            "Epoch 6/10\n",
            "938/938 [==============================] - 7s 7ms/step - loss: 0.1080 - accuracy: 0.8696 - val_loss: 0.1056 - val_accuracy: 0.8718\n",
            "Epoch 7/10\n",
            "938/938 [==============================] - 7s 7ms/step - loss: 0.1041 - accuracy: 0.8751 - val_loss: 0.1019 - val_accuracy: 0.8765\n",
            "Epoch 8/10\n",
            "938/938 [==============================] - 7s 7ms/step - loss: 0.1007 - accuracy: 0.8814 - val_loss: 0.0987 - val_accuracy: 0.8799\n",
            "Epoch 9/10\n",
            "938/938 [==============================] - 7s 7ms/step - loss: 0.0973 - accuracy: 0.8855 - val_loss: 0.0959 - val_accuracy: 0.8836\n",
            "Epoch 10/10\n",
            "938/938 [==============================] - 7s 7ms/step - loss: 0.0941 - accuracy: 0.8900 - val_loss: 0.0933 - val_accuracy: 0.8865\n"
          ],
          "name": "stdout"
        }
      ]
    },
    {
      "cell_type": "code",
      "metadata": {
        "id": "e0GK6QLT2Vd5"
      },
      "source": [
        "y_pred_te = model.predict([pairs_test[:, 0], pairs_test[:, 1]])\n",
        "te_acc = compute_accuracy(labels_test, y_pred_te)"
      ],
      "execution_count": null,
      "outputs": []
    },
    {
      "cell_type": "code",
      "metadata": {
        "colab": {
          "base_uri": "https://localhost:8080/"
        },
        "id": "ldGp646Z2VPd",
        "outputId": "89fe5807-693b-480f-e6d9-985b91de2395"
      },
      "source": [
        "print(\"Accuracy on test set:\", te_acc*100)"
      ],
      "execution_count": null,
      "outputs": [
        {
          "output_type": "stream",
          "text": [
            "Accuracy on test set: 88.615\n"
          ],
          "name": "stdout"
        }
      ]
    },
    {
      "cell_type": "code",
      "metadata": {
        "colab": {
          "base_uri": "https://localhost:8080/",
          "height": 295
        },
        "id": "j3Ve_SkG2VFc",
        "outputId": "1bfb0af8-777a-4aa8-a3be-608dc5cc5f9e"
      },
      "source": [
        "history_dict = history.history\n",
        "loss_values = history_dict['loss']\n",
        "val_loss_values = history_dict['val_loss']\n",
        "epochs = range(1, (len(history.history['val_accuracy']) + 1))\n",
        "plt.plot(epochs, loss_values, 'y', label='Training loss')\n",
        "plt.plot(epochs, val_loss_values, 'g', label='Test loss')\n",
        "plt.title('Training and Test loss')\n",
        "plt.xlabel('Epochs')\n",
        "plt.ylabel('Loss')\n",
        "plt.legend()\n",
        "plt.show()"
      ],
      "execution_count": null,
      "outputs": [
        {
          "output_type": "display_data",
          "data": {
            "image/png": "[encoded data removed]",
            "text/plain": [
              "<Figure size 432x288 with 1 Axes>"
            ]
          },
          "metadata": {
            "tags": [],
            "needs_background": "light"
          }
        }
      ]
    },
    {
      "cell_type": "markdown",
      "metadata": {
        "id": "Cv-hHybT2S4N"
      },
      "source": [
        "**Adam Optimizer**"
      ]
    },
    {
      "cell_type": "code",
      "metadata": {
        "colab": {
          "base_uri": "https://localhost:8080/"
        },
        "id": "KDmCFhKM2XQn",
        "outputId": "a89e85dc-513e-4b1e-b1d4-04a5a7a41cc9"
      },
      "source": [
        "model.compile(loss = contrastive_loss, optimizer=\"adam\", metrics=[accuracy])\n",
        "model.summary()"
      ],
      "execution_count": null,
      "outputs": [
        {
          "output_type": "stream",
          "text": [
            "Model: \"model_74\"\n",
            "__________________________________________________________________________________________________\n",
            "Layer (type)                    Output Shape         Param #     Connected to                     \n",
            "==================================================================================================\n",
            "input_113 (InputLayer)          [(None, 784)]        0                                            \n",
            "__________________________________________________________________________________________________\n",
            "input_114 (InputLayer)          [(None, 784)]        0                                            \n",
            "__________________________________________________________________________________________________\n",
            "model_73 (Functional)           (None, 256)          91584       input_113[0][0]                  \n",
            "                                                                 input_114[0][0]                  \n",
            "__________________________________________________________________________________________________\n",
            "lambda_107 (Lambda)             (None, 1)            0           model_73[0][0]                   \n",
            "                                                                 model_73[1][0]                   \n",
            "==================================================================================================\n",
            "Total params: 91,584\n",
            "Trainable params: 91,584\n",
            "Non-trainable params: 0\n",
            "__________________________________________________________________________________________________\n"
          ],
          "name": "stdout"
        }
      ]
    },
    {
      "cell_type": "code",
      "metadata": {
        "colab": {
          "base_uri": "https://localhost:8080/"
        },
        "id": "tHNd-2fC_Txl",
        "outputId": "f5b80563-623a-45aa-b34e-f691d8546eba"
      },
      "source": [
        "history = model.fit([pairs_train[:,0], pairs_train[:,1]], labels_train[:], batch_size=128, epochs=10, validation_data =([pairs_test[:, 0], pairs_test[:, 1]], labels_test))"
      ],
      "execution_count": null,
      "outputs": [
        {
          "output_type": "stream",
          "text": [
            "Epoch 1/10\n",
            "938/938 [==============================] - 8s 8ms/step - loss: 0.0933 - accuracy: 0.8839 - val_loss: 0.0379 - val_accuracy: 0.9595\n",
            "Epoch 2/10\n",
            "938/938 [==============================] - 7s 8ms/step - loss: 0.0277 - accuracy: 0.9707 - val_loss: 0.0292 - val_accuracy: 0.9643\n",
            "Epoch 3/10\n",
            "938/938 [==============================] - 7s 8ms/step - loss: 0.0179 - accuracy: 0.9808 - val_loss: 0.0250 - val_accuracy: 0.9693\n",
            "Epoch 4/10\n",
            "938/938 [==============================] - 7s 8ms/step - loss: 0.0132 - accuracy: 0.9855 - val_loss: 0.0242 - val_accuracy: 0.9708\n",
            "Epoch 5/10\n",
            "938/938 [==============================] - 7s 8ms/step - loss: 0.0105 - accuracy: 0.9891 - val_loss: 0.0247 - val_accuracy: 0.9692\n",
            "Epoch 6/10\n",
            "938/938 [==============================] - 7s 8ms/step - loss: 0.0085 - accuracy: 0.9912 - val_loss: 0.0236 - val_accuracy: 0.9710\n",
            "Epoch 7/10\n",
            "938/938 [==============================] - 7s 8ms/step - loss: 0.0072 - accuracy: 0.9928 - val_loss: 0.0247 - val_accuracy: 0.9696\n",
            "Epoch 8/10\n",
            "938/938 [==============================] - 7s 8ms/step - loss: 0.0070 - accuracy: 0.9928 - val_loss: 0.0241 - val_accuracy: 0.9715\n",
            "Epoch 9/10\n",
            "938/938 [==============================] - 7s 8ms/step - loss: 0.0060 - accuracy: 0.9939 - val_loss: 0.0256 - val_accuracy: 0.9692\n",
            "Epoch 10/10\n",
            "938/938 [==============================] - 7s 8ms/step - loss: 0.0055 - accuracy: 0.9946 - val_loss: 0.0227 - val_accuracy: 0.9729\n"
          ],
          "name": "stdout"
        }
      ]
    },
    {
      "cell_type": "code",
      "metadata": {
        "id": "Imwb91oc2W5v"
      },
      "source": [
        "y_pred_te = model.predict([pairs_test[:, 0], pairs_test[:, 1]])\n",
        "te_acc = compute_accuracy(labels_test, y_pred_te)"
      ],
      "execution_count": null,
      "outputs": []
    },
    {
      "cell_type": "code",
      "metadata": {
        "colab": {
          "base_uri": "https://localhost:8080/"
        },
        "id": "8NqyUolvCgWe",
        "outputId": "1ea409d0-2756-4a1b-9b78-6eaacf529970"
      },
      "source": [
        "print(\"Accuracy on test set:\", te_acc*100)"
      ],
      "execution_count": null,
      "outputs": [
        {
          "output_type": "stream",
          "text": [
            "Accuracy on test set: 97.28999999999999\n"
          ],
          "name": "stdout"
        }
      ]
    },
    {
      "cell_type": "code",
      "metadata": {
        "colab": {
          "base_uri": "https://localhost:8080/",
          "height": 295
        },
        "id": "4yalLvaq2Wjl",
        "outputId": "77c0b134-46f4-43d7-c008-f0697584e608"
      },
      "source": [
        "history_dict = history.history\n",
        "loss_values = history_dict['loss']\n",
        "val_loss_values = history_dict['val_loss']\n",
        "epochs = range(1, (len(history.history['val_accuracy']) + 1))\n",
        "plt.plot(epochs, loss_values, 'y', label='Training loss')\n",
        "plt.plot(epochs, val_loss_values, 'g', label='Test loss')\n",
        "plt.title('Training and Test loss')\n",
        "plt.xlabel('Epochs')\n",
        "plt.ylabel('Loss')\n",
        "plt.legend()\n",
        "plt.show()"
      ],
      "execution_count": null,
      "outputs": [
        {
          "output_type": "display_data",
          "data": {
            "image/png": "[encoded data removed]",
            "text/plain": [
              "<Figure size 432x288 with 1 Axes>"
            ]
          },
          "metadata": {
            "tags": [],
            "needs_background": "light"
          }
        }
      ]
    },
    {
      "cell_type": "markdown",
      "metadata": {
        "id": "rTo1-5vIC1wV"
      },
      "source": [
        "# **Comparison of RMSProp, Mini Batch Gradient Descent and Adam Optimizer**"
      ]
    },
    {
      "cell_type": "markdown",
      "metadata": {
        "id": "-xePivvuD_ZG"
      },
      "source": [
        "Accuracy of Siamese Network using different optimizers are:\n",
        "*  Test Accuracy using **RMSProp optimizer: 96.189%**\n",
        "*  Test Accuracy using **Mini Batch Gradient Descent optimizer: 88.615%**\n",
        "*  Test Accuracy using **Adam optimizer: 97.289%**\n",
        "\n",
        "\n",
        "As we can see that Adam and RMSProp optimizer gave around same accuracies with Adam giving slightly higher. The update rule for Adam is very similar to RMSProp, except we look at the cumulative history of gradients which speeds up the process in case of Adam.\n",
        "\n",
        "\n",
        "The **best optimizer I think is Adam Optimizer** and the reasons are :\n",
        "\n",
        "* Adam combines the best properties of RMSProp and AdaGrad to work well even with noisy or sparse datasets.\n",
        "* Adam is well suited for problems that are large in terms of data and/or parameters.\n",
        "* Adam is Computationally efficient and has Little memory requirements.\n"
      ]
    },
    {
      "cell_type": "markdown",
      "metadata": {
        "id": "RVxIVZV2IHO1"
      },
      "source": [
        "# **Hyper Parameter Optimization on Siamese Network with Adam optimizer**"
      ]
    },
    {
      "cell_type": "code",
      "metadata": {
        "id": "ILXCR7eKIGmT"
      },
      "source": [
        "opt = ks.optimizers.Adam(learning_rate=0.0005, beta_1=0.888, beta_2=0.8888, epsilon=1e-8)"
      ],
      "execution_count": null,
      "outputs": []
    },
    {
      "cell_type": "code",
      "metadata": {
        "colab": {
          "base_uri": "https://localhost:8080/"
        },
        "id": "bq9xuNyAIdl5",
        "outputId": "4164639b-1f5d-4462-b669-fba754f910f5"
      },
      "source": [
        "model.compile(loss = contrastive_loss, optimizer=opt, metrics=[accuracy])\n",
        "model.summary()"
      ],
      "execution_count": null,
      "outputs": [
        {
          "output_type": "stream",
          "text": [
            "Model: \"model_102\"\n",
            "__________________________________________________________________________________________________\n",
            "Layer (type)                    Output Shape         Param #     Connected to                     \n",
            "==================================================================================================\n",
            "input_155 (InputLayer)          [(None, 784)]        0                                            \n",
            "__________________________________________________________________________________________________\n",
            "input_156 (InputLayer)          [(None, 784)]        0                                            \n",
            "__________________________________________________________________________________________________\n",
            "model_101 (Functional)          (None, 256)          91584       input_155[0][0]                  \n",
            "                                                                 input_156[0][0]                  \n",
            "__________________________________________________________________________________________________\n",
            "lambda_149 (Lambda)             (None, 1)            0           model_101[0][0]                  \n",
            "                                                                 model_101[1][0]                  \n",
            "==================================================================================================\n",
            "Total params: 91,584\n",
            "Trainable params: 91,584\n",
            "Non-trainable params: 0\n",
            "__________________________________________________________________________________________________\n"
          ],
          "name": "stdout"
        }
      ]
    },
    {
      "cell_type": "code",
      "metadata": {
        "colab": {
          "base_uri": "https://localhost:8080/"
        },
        "id": "dGi6g5zDIdY9",
        "outputId": "9386f85c-8615-4878-c5fc-45e0fcbc1c6d"
      },
      "source": [
        "history = model.fit([pairs_train[:,0], pairs_train[:,1]], labels_train[:], batch_size=128, epochs=10, validation_data =([pairs_test[:, 0], pairs_test[:, 1]], labels_test))"
      ],
      "execution_count": null,
      "outputs": [
        {
          "output_type": "stream",
          "text": [
            "Epoch 1/10\n",
            "938/938 [==============================] - 8s 8ms/step - loss: 0.1139 - accuracy: 0.8523 - val_loss: 0.0468 - val_accuracy: 0.9489\n",
            "Epoch 2/10\n",
            "938/938 [==============================] - 7s 8ms/step - loss: 0.0386 - accuracy: 0.9604 - val_loss: 0.0319 - val_accuracy: 0.9655\n",
            "Epoch 3/10\n",
            "938/938 [==============================] - 7s 7ms/step - loss: 0.0237 - accuracy: 0.9757 - val_loss: 0.0274 - val_accuracy: 0.9669\n",
            "Epoch 4/10\n",
            "938/938 [==============================] - 7s 7ms/step - loss: 0.0167 - accuracy: 0.9828 - val_loss: 0.0256 - val_accuracy: 0.9701\n",
            "Epoch 5/10\n",
            "938/938 [==============================] - 7s 7ms/step - loss: 0.0129 - accuracy: 0.9868 - val_loss: 0.0255 - val_accuracy: 0.9673\n",
            "Epoch 6/10\n",
            "938/938 [==============================] - 7s 7ms/step - loss: 0.0107 - accuracy: 0.9890 - val_loss: 0.0243 - val_accuracy: 0.9705\n",
            "Epoch 7/10\n",
            "938/938 [==============================] - 7s 7ms/step - loss: 0.0087 - accuracy: 0.9912 - val_loss: 0.0228 - val_accuracy: 0.9726\n",
            "Epoch 8/10\n",
            "938/938 [==============================] - 7s 7ms/step - loss: 0.0076 - accuracy: 0.9922 - val_loss: 0.0237 - val_accuracy: 0.9689\n",
            "Epoch 9/10\n",
            "938/938 [==============================] - 7s 7ms/step - loss: 0.0067 - accuracy: 0.9934 - val_loss: 0.0236 - val_accuracy: 0.9701\n",
            "Epoch 10/10\n",
            "938/938 [==============================] - 7s 7ms/step - loss: 0.0060 - accuracy: 0.9941 - val_loss: 0.0233 - val_accuracy: 0.9712\n"
          ],
          "name": "stdout"
        }
      ]
    },
    {
      "cell_type": "code",
      "metadata": {
        "id": "5OX0_VxRIdNO"
      },
      "source": [
        "y_pred_te = model.predict([pairs_test[:, 0], pairs_test[:, 1]])\n",
        "te_acc = compute_accuracy(labels_test, y_pred_te)"
      ],
      "execution_count": null,
      "outputs": []
    },
    {
      "cell_type": "code",
      "metadata": {
        "colab": {
          "base_uri": "https://localhost:8080/"
        },
        "id": "HGi_XLdmIj6R",
        "outputId": "9ababef7-992d-400a-b9d1-6639086806ae"
      },
      "source": [
        "print(\"Accuracy on test set:\", te_acc*100)"
      ],
      "execution_count": null,
      "outputs": [
        {
          "output_type": "stream",
          "text": [
            "Accuracy on test set: 97.59555\n"
          ],
          "name": "stdout"
        }
      ]
    },
    {
      "cell_type": "code",
      "metadata": {
        "colab": {
          "base_uri": "https://localhost:8080/",
          "height": 295
        },
        "id": "_OsDKAubIjx9",
        "outputId": "28e7621d-3532-40e8-9337-c4e06853f4ad"
      },
      "source": [
        "history_dict = history.history\n",
        "loss_values = history_dict['loss']\n",
        "val_loss_values = history_dict['val_loss']\n",
        "epochs = range(1, (len(history.history['val_accuracy']) + 1))\n",
        "plt.plot(epochs, loss_values, 'y', label='Training loss')\n",
        "plt.plot(epochs, val_loss_values, 'g', label='Test loss')\n",
        "plt.title('Training and Test loss')\n",
        "plt.xlabel('Epochs')\n",
        "plt.ylabel('Loss')\n",
        "plt.legend()\n",
        "plt.show()"
      ],
      "execution_count": null,
      "outputs": [
        {
          "output_type": "display_data",
          "data": {
            "image/png": "[encoded data removed]",
            "text/plain": [
              "<Figure size 432x288 with 1 Axes>"
            ]
          },
          "metadata": {
            "tags": [],
            "needs_background": "light"
          }
        }
      ]
    },
    {
      "cell_type": "markdown",
      "metadata": {
        "id": "XqHK752HUhnY"
      },
      "source": [
        "# **Accuracies before and after Hyper Parameter Optimization**"
      ]
    },
    {
      "cell_type": "markdown",
      "metadata": {
        "id": "K8xvwG6NTPvF"
      },
      "source": [
        "For Siamese Network With Adam Optimizer,\n",
        "* Before Hyper Parameter Optimization, the **Accuracy is 97.289%**\n",
        "* After Hyper Parameter Optimization, the **Accuracy increased to 97.595%**\n",
        "\n",
        "Changes made in hyperparameters are as follows,\n",
        "\n",
        "**learning_rate=0.0005, beta_1=0.888, beta_2=0.8888, epsilon=1e-8**"
      ]
    },
    {
      "cell_type": "markdown",
      "metadata": {
        "id": "fIZTe9lCr_px"
      },
      "source": [
        "# **Pros and Cons of Siamese Networks**"
      ]
    },
    {
      "cell_type": "markdown",
      "metadata": {
        "id": "I9sgFuT7gLZt"
      },
      "source": [
        "**Pros of Siamese Network**\n",
        "1. Given a few images per class, Siamese Networks will recognise those images in the future with the help of One-shot learning.\n",
        "2. Siamese focuses on learning embeddings (in the deeper layer) that group together similar classes and concepts. As a result, semantic similarity can be learned.\n",
        "\n",
        "\n",
        "\n",
        "**Cons of Siamese Network**\n",
        "1. Siamese Networks need more training time than normal networks because they use quadratic pairs to learn from, and they are slower than normal classification learning.\n",
        "2. Since pairwise learning is used in training, the distance from each class will be output instead of the prediction probabilities.\n",
        "\n",
        "\n"
      ]
    }
  ]
}